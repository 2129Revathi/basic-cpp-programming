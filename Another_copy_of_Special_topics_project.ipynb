{
  "nbformat": 4,
  "nbformat_minor": 0,
  "metadata": {
    "colab": {
      "provenance": [],
      "include_colab_link": true
    },
    "kernelspec": {
      "name": "python3",
      "display_name": "Python 3"
    },
    "language_info": {
      "name": "python"
    }
  },
  "cells": [
    {
      "cell_type": "markdown",
      "metadata": {
        "id": "view-in-github",
        "colab_type": "text"
      },
      "source": [
        "<a href=\"https://colab.research.google.com/github/2129Revathi/basic-cpp-programming/blob/main/Another_copy_of_Special_topics_project.ipynb\" target=\"_parent\"><img src=\"https://colab.research.google.com/assets/colab-badge.svg\" alt=\"Open In Colab\"/></a>"
      ]
    },
    {
      "cell_type": "code",
      "execution_count": null,
      "metadata": {
        "id": "Q5K4OkZdAgu7"
      },
      "outputs": [],
      "source": [
        "#import necessary libraries\n",
        "import requests\n",
        "import pandas as pd"
      ]
    },
    {
      "cell_type": "code",
      "source": [
        "#import dataset\n",
        "url = 'https://drive.google.com/uc?export=download&id=1F3oU61kC2ZqQ9HJLKAmoblehs3ENgUl8'\n",
        "r = requests.get(url, headers = {'Accept': 'application/text'})\n",
        "with open('data.csv', \"w\") as f:\n",
        "    f.write(r.text)"
      ],
      "metadata": {
        "id": "6uBJdki_AkPP"
      },
      "execution_count": null,
      "outputs": []
    },
    {
      "cell_type": "code",
      "source": [
        "#saving dataset into a dataframe to perform functions\n",
        "df = pd.read_csv(\"data.csv\", sep=',')\n",
        "df"
      ],
      "metadata": {
        "colab": {
          "base_uri": "https://localhost:8080/",
          "height": 423
        },
        "id": "HMZfk-ATAlkd",
        "outputId": "5e293baf-c243-4317-9a3d-924e68e30ff8"
      },
      "execution_count": null,
      "outputs": [
        {
          "output_type": "execute_result",
          "data": {
            "text/plain": [
              "       Unnamed: 0  count  hate_speech  offensive_language  neither  class  \\\n",
              "0               0      3            0                   0        3      2   \n",
              "1               1      3            0                   3        0      1   \n",
              "2               2      3            0                   3        0      1   \n",
              "3               3      3            0                   2        1      1   \n",
              "4               4      6            0                   6        0      1   \n",
              "...           ...    ...          ...                 ...      ...    ...   \n",
              "24778       25291      3            0                   2        1      1   \n",
              "24779       25292      3            0                   1        2      2   \n",
              "24780       25294      3            0                   3        0      1   \n",
              "24781       25295      6            0                   6        0      1   \n",
              "24782       25296      3            0                   0        3      2   \n",
              "\n",
              "                                                   tweet  \n",
              "0      !!! RT @mayasolovely: As a woman you shouldn't...  \n",
              "1      !!!!! RT @mleew17: boy dats cold...tyga dwn ba...  \n",
              "2      !!!!!!! RT @UrKindOfBrand Dawg!!!! RT @80sbaby...  \n",
              "3      !!!!!!!!! RT @C_G_Anderson: @viva_based she lo...  \n",
              "4      !!!!!!!!!!!!! RT @ShenikaRoberts: The shit you...  \n",
              "...                                                  ...  \n",
              "24778  you's a muthaf***in lie &#8220;@LifeAsKing: @2...  \n",
              "24779  you've gone and broke the wrong heart baby, an...  \n",
              "24780  young buck wanna eat!!.. dat nigguh like I ain...  \n",
              "24781              youu got wild bitches tellin you lies  \n",
              "24782  ~~Ruffled | Ntac Eileen Dahlia - Beautiful col...  \n",
              "\n",
              "[24783 rows x 7 columns]"
            ],
            "text/html": [
              "\n",
              "  <div id=\"df-4c3aeb67-8c38-4b2a-bd7f-c7b51c3f645b\" class=\"colab-df-container\">\n",
              "    <div>\n",
              "<style scoped>\n",
              "    .dataframe tbody tr th:only-of-type {\n",
              "        vertical-align: middle;\n",
              "    }\n",
              "\n",
              "    .dataframe tbody tr th {\n",
              "        vertical-align: top;\n",
              "    }\n",
              "\n",
              "    .dataframe thead th {\n",
              "        text-align: right;\n",
              "    }\n",
              "</style>\n",
              "<table border=\"1\" class=\"dataframe\">\n",
              "  <thead>\n",
              "    <tr style=\"text-align: right;\">\n",
              "      <th></th>\n",
              "      <th>Unnamed: 0</th>\n",
              "      <th>count</th>\n",
              "      <th>hate_speech</th>\n",
              "      <th>offensive_language</th>\n",
              "      <th>neither</th>\n",
              "      <th>class</th>\n",
              "      <th>tweet</th>\n",
              "    </tr>\n",
              "  </thead>\n",
              "  <tbody>\n",
              "    <tr>\n",
              "      <th>0</th>\n",
              "      <td>0</td>\n",
              "      <td>3</td>\n",
              "      <td>0</td>\n",
              "      <td>0</td>\n",
              "      <td>3</td>\n",
              "      <td>2</td>\n",
              "      <td>!!! RT @mayasolovely: As a woman you shouldn't...</td>\n",
              "    </tr>\n",
              "    <tr>\n",
              "      <th>1</th>\n",
              "      <td>1</td>\n",
              "      <td>3</td>\n",
              "      <td>0</td>\n",
              "      <td>3</td>\n",
              "      <td>0</td>\n",
              "      <td>1</td>\n",
              "      <td>!!!!! RT @mleew17: boy dats cold...tyga dwn ba...</td>\n",
              "    </tr>\n",
              "    <tr>\n",
              "      <th>2</th>\n",
              "      <td>2</td>\n",
              "      <td>3</td>\n",
              "      <td>0</td>\n",
              "      <td>3</td>\n",
              "      <td>0</td>\n",
              "      <td>1</td>\n",
              "      <td>!!!!!!! RT @UrKindOfBrand Dawg!!!! RT @80sbaby...</td>\n",
              "    </tr>\n",
              "    <tr>\n",
              "      <th>3</th>\n",
              "      <td>3</td>\n",
              "      <td>3</td>\n",
              "      <td>0</td>\n",
              "      <td>2</td>\n",
              "      <td>1</td>\n",
              "      <td>1</td>\n",
              "      <td>!!!!!!!!! RT @C_G_Anderson: @viva_based she lo...</td>\n",
              "    </tr>\n",
              "    <tr>\n",
              "      <th>4</th>\n",
              "      <td>4</td>\n",
              "      <td>6</td>\n",
              "      <td>0</td>\n",
              "      <td>6</td>\n",
              "      <td>0</td>\n",
              "      <td>1</td>\n",
              "      <td>!!!!!!!!!!!!! RT @ShenikaRoberts: The shit you...</td>\n",
              "    </tr>\n",
              "    <tr>\n",
              "      <th>...</th>\n",
              "      <td>...</td>\n",
              "      <td>...</td>\n",
              "      <td>...</td>\n",
              "      <td>...</td>\n",
              "      <td>...</td>\n",
              "      <td>...</td>\n",
              "      <td>...</td>\n",
              "    </tr>\n",
              "    <tr>\n",
              "      <th>24778</th>\n",
              "      <td>25291</td>\n",
              "      <td>3</td>\n",
              "      <td>0</td>\n",
              "      <td>2</td>\n",
              "      <td>1</td>\n",
              "      <td>1</td>\n",
              "      <td>you's a muthaf***in lie &amp;#8220;@LifeAsKing: @2...</td>\n",
              "    </tr>\n",
              "    <tr>\n",
              "      <th>24779</th>\n",
              "      <td>25292</td>\n",
              "      <td>3</td>\n",
              "      <td>0</td>\n",
              "      <td>1</td>\n",
              "      <td>2</td>\n",
              "      <td>2</td>\n",
              "      <td>you've gone and broke the wrong heart baby, an...</td>\n",
              "    </tr>\n",
              "    <tr>\n",
              "      <th>24780</th>\n",
              "      <td>25294</td>\n",
              "      <td>3</td>\n",
              "      <td>0</td>\n",
              "      <td>3</td>\n",
              "      <td>0</td>\n",
              "      <td>1</td>\n",
              "      <td>young buck wanna eat!!.. dat nigguh like I ain...</td>\n",
              "    </tr>\n",
              "    <tr>\n",
              "      <th>24781</th>\n",
              "      <td>25295</td>\n",
              "      <td>6</td>\n",
              "      <td>0</td>\n",
              "      <td>6</td>\n",
              "      <td>0</td>\n",
              "      <td>1</td>\n",
              "      <td>youu got wild bitches tellin you lies</td>\n",
              "    </tr>\n",
              "    <tr>\n",
              "      <th>24782</th>\n",
              "      <td>25296</td>\n",
              "      <td>3</td>\n",
              "      <td>0</td>\n",
              "      <td>0</td>\n",
              "      <td>3</td>\n",
              "      <td>2</td>\n",
              "      <td>~~Ruffled | Ntac Eileen Dahlia - Beautiful col...</td>\n",
              "    </tr>\n",
              "  </tbody>\n",
              "</table>\n",
              "<p>24783 rows × 7 columns</p>\n",
              "</div>\n",
              "    <div class=\"colab-df-buttons\">\n",
              "\n",
              "  <div class=\"colab-df-container\">\n",
              "    <button class=\"colab-df-convert\" onclick=\"convertToInteractive('df-4c3aeb67-8c38-4b2a-bd7f-c7b51c3f645b')\"\n",
              "            title=\"Convert this dataframe to an interactive table.\"\n",
              "            style=\"display:none;\">\n",
              "\n",
              "  <svg xmlns=\"http://www.w3.org/2000/svg\" height=\"24px\" viewBox=\"0 -960 960 960\">\n",
              "    <path d=\"M120-120v-720h720v720H120Zm60-500h600v-160H180v160Zm220 220h160v-160H400v160Zm0 220h160v-160H400v160ZM180-400h160v-160H180v160Zm440 0h160v-160H620v160ZM180-180h160v-160H180v160Zm440 0h160v-160H620v160Z\"/>\n",
              "  </svg>\n",
              "    </button>\n",
              "\n",
              "  <style>\n",
              "    .colab-df-container {\n",
              "      display:flex;\n",
              "      gap: 12px;\n",
              "    }\n",
              "\n",
              "    .colab-df-convert {\n",
              "      background-color: #E8F0FE;\n",
              "      border: none;\n",
              "      border-radius: 50%;\n",
              "      cursor: pointer;\n",
              "      display: none;\n",
              "      fill: #1967D2;\n",
              "      height: 32px;\n",
              "      padding: 0 0 0 0;\n",
              "      width: 32px;\n",
              "    }\n",
              "\n",
              "    .colab-df-convert:hover {\n",
              "      background-color: #E2EBFA;\n",
              "      box-shadow: 0px 1px 2px rgba(60, 64, 67, 0.3), 0px 1px 3px 1px rgba(60, 64, 67, 0.15);\n",
              "      fill: #174EA6;\n",
              "    }\n",
              "\n",
              "    .colab-df-buttons div {\n",
              "      margin-bottom: 4px;\n",
              "    }\n",
              "\n",
              "    [theme=dark] .colab-df-convert {\n",
              "      background-color: #3B4455;\n",
              "      fill: #D2E3FC;\n",
              "    }\n",
              "\n",
              "    [theme=dark] .colab-df-convert:hover {\n",
              "      background-color: #434B5C;\n",
              "      box-shadow: 0px 1px 3px 1px rgba(0, 0, 0, 0.15);\n",
              "      filter: drop-shadow(0px 1px 2px rgba(0, 0, 0, 0.3));\n",
              "      fill: #FFFFFF;\n",
              "    }\n",
              "  </style>\n",
              "\n",
              "    <script>\n",
              "      const buttonEl =\n",
              "        document.querySelector('#df-4c3aeb67-8c38-4b2a-bd7f-c7b51c3f645b button.colab-df-convert');\n",
              "      buttonEl.style.display =\n",
              "        google.colab.kernel.accessAllowed ? 'block' : 'none';\n",
              "\n",
              "      async function convertToInteractive(key) {\n",
              "        const element = document.querySelector('#df-4c3aeb67-8c38-4b2a-bd7f-c7b51c3f645b');\n",
              "        const dataTable =\n",
              "          await google.colab.kernel.invokeFunction('convertToInteractive',\n",
              "                                                    [key], {});\n",
              "        if (!dataTable) return;\n",
              "\n",
              "        const docLinkHtml = 'Like what you see? Visit the ' +\n",
              "          '<a target=\"_blank\" href=https://colab.research.google.com/notebooks/data_table.ipynb>data table notebook</a>'\n",
              "          + ' to learn more about interactive tables.';\n",
              "        element.innerHTML = '';\n",
              "        dataTable['output_type'] = 'display_data';\n",
              "        await google.colab.output.renderOutput(dataTable, element);\n",
              "        const docLink = document.createElement('div');\n",
              "        docLink.innerHTML = docLinkHtml;\n",
              "        element.appendChild(docLink);\n",
              "      }\n",
              "    </script>\n",
              "  </div>\n",
              "\n",
              "\n",
              "<div id=\"df-a2da9f11-6354-46cd-84d9-bcba9e0172cc\">\n",
              "  <button class=\"colab-df-quickchart\" onclick=\"quickchart('df-a2da9f11-6354-46cd-84d9-bcba9e0172cc')\"\n",
              "            title=\"Suggest charts\"\n",
              "            style=\"display:none;\">\n",
              "\n",
              "<svg xmlns=\"http://www.w3.org/2000/svg\" height=\"24px\"viewBox=\"0 0 24 24\"\n",
              "     width=\"24px\">\n",
              "    <g>\n",
              "        <path d=\"M19 3H5c-1.1 0-2 .9-2 2v14c0 1.1.9 2 2 2h14c1.1 0 2-.9 2-2V5c0-1.1-.9-2-2-2zM9 17H7v-7h2v7zm4 0h-2V7h2v10zm4 0h-2v-4h2v4z\"/>\n",
              "    </g>\n",
              "</svg>\n",
              "  </button>\n",
              "\n",
              "<style>\n",
              "  .colab-df-quickchart {\n",
              "      --bg-color: #E8F0FE;\n",
              "      --fill-color: #1967D2;\n",
              "      --hover-bg-color: #E2EBFA;\n",
              "      --hover-fill-color: #174EA6;\n",
              "      --disabled-fill-color: #AAA;\n",
              "      --disabled-bg-color: #DDD;\n",
              "  }\n",
              "\n",
              "  [theme=dark] .colab-df-quickchart {\n",
              "      --bg-color: #3B4455;\n",
              "      --fill-color: #D2E3FC;\n",
              "      --hover-bg-color: #434B5C;\n",
              "      --hover-fill-color: #FFFFFF;\n",
              "      --disabled-bg-color: #3B4455;\n",
              "      --disabled-fill-color: #666;\n",
              "  }\n",
              "\n",
              "  .colab-df-quickchart {\n",
              "    background-color: var(--bg-color);\n",
              "    border: none;\n",
              "    border-radius: 50%;\n",
              "    cursor: pointer;\n",
              "    display: none;\n",
              "    fill: var(--fill-color);\n",
              "    height: 32px;\n",
              "    padding: 0;\n",
              "    width: 32px;\n",
              "  }\n",
              "\n",
              "  .colab-df-quickchart:hover {\n",
              "    background-color: var(--hover-bg-color);\n",
              "    box-shadow: 0 1px 2px rgba(60, 64, 67, 0.3), 0 1px 3px 1px rgba(60, 64, 67, 0.15);\n",
              "    fill: var(--button-hover-fill-color);\n",
              "  }\n",
              "\n",
              "  .colab-df-quickchart-complete:disabled,\n",
              "  .colab-df-quickchart-complete:disabled:hover {\n",
              "    background-color: var(--disabled-bg-color);\n",
              "    fill: var(--disabled-fill-color);\n",
              "    box-shadow: none;\n",
              "  }\n",
              "\n",
              "  .colab-df-spinner {\n",
              "    border: 2px solid var(--fill-color);\n",
              "    border-color: transparent;\n",
              "    border-bottom-color: var(--fill-color);\n",
              "    animation:\n",
              "      spin 1s steps(1) infinite;\n",
              "  }\n",
              "\n",
              "  @keyframes spin {\n",
              "    0% {\n",
              "      border-color: transparent;\n",
              "      border-bottom-color: var(--fill-color);\n",
              "      border-left-color: var(--fill-color);\n",
              "    }\n",
              "    20% {\n",
              "      border-color: transparent;\n",
              "      border-left-color: var(--fill-color);\n",
              "      border-top-color: var(--fill-color);\n",
              "    }\n",
              "    30% {\n",
              "      border-color: transparent;\n",
              "      border-left-color: var(--fill-color);\n",
              "      border-top-color: var(--fill-color);\n",
              "      border-right-color: var(--fill-color);\n",
              "    }\n",
              "    40% {\n",
              "      border-color: transparent;\n",
              "      border-right-color: var(--fill-color);\n",
              "      border-top-color: var(--fill-color);\n",
              "    }\n",
              "    60% {\n",
              "      border-color: transparent;\n",
              "      border-right-color: var(--fill-color);\n",
              "    }\n",
              "    80% {\n",
              "      border-color: transparent;\n",
              "      border-right-color: var(--fill-color);\n",
              "      border-bottom-color: var(--fill-color);\n",
              "    }\n",
              "    90% {\n",
              "      border-color: transparent;\n",
              "      border-bottom-color: var(--fill-color);\n",
              "    }\n",
              "  }\n",
              "</style>\n",
              "\n",
              "  <script>\n",
              "    async function quickchart(key) {\n",
              "      const quickchartButtonEl =\n",
              "        document.querySelector('#' + key + ' button');\n",
              "      quickchartButtonEl.disabled = true;  // To prevent multiple clicks.\n",
              "      quickchartButtonEl.classList.add('colab-df-spinner');\n",
              "      try {\n",
              "        const charts = await google.colab.kernel.invokeFunction(\n",
              "            'suggestCharts', [key], {});\n",
              "      } catch (error) {\n",
              "        console.error('Error during call to suggestCharts:', error);\n",
              "      }\n",
              "      quickchartButtonEl.classList.remove('colab-df-spinner');\n",
              "      quickchartButtonEl.classList.add('colab-df-quickchart-complete');\n",
              "    }\n",
              "    (() => {\n",
              "      let quickchartButtonEl =\n",
              "        document.querySelector('#df-a2da9f11-6354-46cd-84d9-bcba9e0172cc button');\n",
              "      quickchartButtonEl.style.display =\n",
              "        google.colab.kernel.accessAllowed ? 'block' : 'none';\n",
              "    })();\n",
              "  </script>\n",
              "</div>\n",
              "    </div>\n",
              "  </div>\n"
            ],
            "application/vnd.google.colaboratory.intrinsic+json": {
              "type": "dataframe",
              "variable_name": "df",
              "summary": "{\n  \"name\": \"df\",\n  \"rows\": 24783,\n  \"fields\": [\n    {\n      \"column\": \"Unnamed: 0\",\n      \"properties\": {\n        \"dtype\": \"number\",\n        \"std\": 7299,\n        \"min\": 0,\n        \"max\": 25296,\n        \"num_unique_values\": 24783,\n        \"samples\": [\n          2326,\n          16283,\n          19362\n        ],\n        \"semantic_type\": \"\",\n        \"description\": \"\"\n      }\n    },\n    {\n      \"column\": \"count\",\n      \"properties\": {\n        \"dtype\": \"number\",\n        \"std\": 0,\n        \"min\": 3,\n        \"max\": 9,\n        \"num_unique_values\": 5,\n        \"samples\": [\n          6,\n          7,\n          9\n        ],\n        \"semantic_type\": \"\",\n        \"description\": \"\"\n      }\n    },\n    {\n      \"column\": \"hate_speech\",\n      \"properties\": {\n        \"dtype\": \"number\",\n        \"std\": 0,\n        \"min\": 0,\n        \"max\": 7,\n        \"num_unique_values\": 8,\n        \"samples\": [\n          1,\n          6,\n          0\n        ],\n        \"semantic_type\": \"\",\n        \"description\": \"\"\n      }\n    },\n    {\n      \"column\": \"offensive_language\",\n      \"properties\": {\n        \"dtype\": \"number\",\n        \"std\": 1,\n        \"min\": 0,\n        \"max\": 9,\n        \"num_unique_values\": 10,\n        \"samples\": [\n          8,\n          3,\n          7\n        ],\n        \"semantic_type\": \"\",\n        \"description\": \"\"\n      }\n    },\n    {\n      \"column\": \"neither\",\n      \"properties\": {\n        \"dtype\": \"number\",\n        \"std\": 1,\n        \"min\": 0,\n        \"max\": 9,\n        \"num_unique_values\": 10,\n        \"samples\": [\n          8,\n          0,\n          4\n        ],\n        \"semantic_type\": \"\",\n        \"description\": \"\"\n      }\n    },\n    {\n      \"column\": \"class\",\n      \"properties\": {\n        \"dtype\": \"number\",\n        \"std\": 0,\n        \"min\": 0,\n        \"max\": 2,\n        \"num_unique_values\": 3,\n        \"samples\": [\n          2,\n          1,\n          0\n        ],\n        \"semantic_type\": \"\",\n        \"description\": \"\"\n      }\n    },\n    {\n      \"column\": \"tweet\",\n      \"properties\": {\n        \"dtype\": \"string\",\n        \"num_unique_values\": 24783,\n        \"samples\": [\n          \"934 8616\\ni got a missed call from yo bitch\",\n          \"RT @KINGTUNCHI_: Fucking with a bad bitch you gone need some money lil homie!\",\n          \"RT @eanahS__: @1inkkofrosess lol my credit ain't no where near good , but I know the right man for the job .. that ho nice though!\"\n        ],\n        \"semantic_type\": \"\",\n        \"description\": \"\"\n      }\n    }\n  ]\n}"
            }
          },
          "metadata": {},
          "execution_count": 4
        }
      ]
    },
    {
      "cell_type": "code",
      "source": [
        "#import required libraries\n",
        "import pandas as pd\n",
        "from sklearn.model_selection import train_test_split\n",
        "from sklearn.feature_extraction.text import TfidfVectorizer\n",
        "from sklearn.svm import SVC\n",
        "from sklearn.metrics import classification_report, accuracy_score\n"
      ],
      "metadata": {
        "id": "cRdOviSWAneF"
      },
      "execution_count": null,
      "outputs": []
    },
    {
      "cell_type": "code",
      "source": [
        "# Step 1: Data Exploration and Analysis (EDA)\n",
        "print(df.head())\n",
        "print(df['class'].value_counts())\n"
      ],
      "metadata": {
        "colab": {
          "base_uri": "https://localhost:8080/"
        },
        "id": "TOqpVlfrApO8",
        "outputId": "13d48066-64ac-4b72-bb84-9800220f2c2d"
      },
      "execution_count": null,
      "outputs": [
        {
          "output_type": "stream",
          "name": "stdout",
          "text": [
            "   Unnamed: 0  count  hate_speech  offensive_language  neither  class  \\\n",
            "0           0      3            0                   0        3      2   \n",
            "1           1      3            0                   3        0      1   \n",
            "2           2      3            0                   3        0      1   \n",
            "3           3      3            0                   2        1      1   \n",
            "4           4      6            0                   6        0      1   \n",
            "\n",
            "                                               tweet  \n",
            "0  !!! RT @mayasolovely: As a woman you shouldn't...  \n",
            "1  !!!!! RT @mleew17: boy dats cold...tyga dwn ba...  \n",
            "2  !!!!!!! RT @UrKindOfBrand Dawg!!!! RT @80sbaby...  \n",
            "3  !!!!!!!!! RT @C_G_Anderson: @viva_based she lo...  \n",
            "4  !!!!!!!!!!!!! RT @ShenikaRoberts: The shit you...  \n",
            "class\n",
            "1    19190\n",
            "2     4163\n",
            "0     1430\n",
            "Name: count, dtype: int64\n"
          ]
        }
      ]
    },
    {
      "cell_type": "code",
      "source": [
        "import re\n",
        "import nltk\n",
        "from nltk.corpus import stopwords\n",
        "from nltk.tokenize import word_tokenize\n",
        "from nltk.stem import PorterStemmer\n",
        "from sklearn.feature_extraction.text import TfidfVectorizer\n",
        "\n",
        "# Step 2: Data Preprocessing\n",
        "\n",
        "# Download 'punkt' and 'stopwords' resources\n",
        "nltk.download('punkt')\n",
        "nltk.download('stopwords')\n",
        "\n",
        "# Convert text to lowercase\n",
        "df['clean_text'] = df['tweet'].str.lower()\n",
        "df['clean_text'] = df['clean_text'].apply(lambda x: x.replace('rt', ''))\n",
        "\n",
        "# Remove URLs\n",
        "df['clean_text'] = df['clean_text'].apply(lambda x: re.sub(r'http\\S+', '', x))\n",
        "\n",
        "# Remove special characters and punctuations\n",
        "df['clean_text'] = df['clean_text'].apply(lambda x: re.sub(r'[^a-zA-Z\\s]', '', x))\n",
        "\n",
        "# Tokenization\n",
        "df['tokenized_text'] = df['clean_text'].apply(lambda x: word_tokenize(x))\n",
        "\n",
        "# Remove stop words\n",
        "stop_words = set(stopwords.words('english'))\n",
        "df['filtered_text'] = df['tokenized_text'].apply(lambda x: [word for word in x if word not in stop_words])\n",
        "\n",
        "# Perform stemming\n",
        "stemmer = nltk.SnowballStemmer(language='english')\n",
        "df['stemmed_text'] = df['filtered_text'].apply(lambda x: [stemmer.stem(word) for word in x])\n",
        "\n",
        "# Create a new column for preprocessed text\n",
        "df['preprocessed_text'] = df['stemmed_text'].apply(lambda x: ' '.join(x))\n",
        "\n",
        "\n",
        "\n"
      ],
      "metadata": {
        "colab": {
          "base_uri": "https://localhost:8080/"
        },
        "id": "e2WcAiWEAruV",
        "outputId": "cf76ff22-24f1-49b7-aca8-0fdc421742b9"
      },
      "execution_count": null,
      "outputs": [
        {
          "output_type": "stream",
          "name": "stderr",
          "text": [
            "[nltk_data] Downloading package punkt to /root/nltk_data...\n",
            "[nltk_data]   Package punkt is already up-to-date!\n",
            "[nltk_data] Downloading package stopwords to /root/nltk_data...\n",
            "[nltk_data]   Package stopwords is already up-to-date!\n"
          ]
        }
      ]
    },
    {
      "cell_type": "code",
      "source": [
        "df['preprocessed_text'] = df['preprocessed_text']\n",
        "df['preprocessed_text_ml'] = df['preprocessed_text'].apply(lambda x: x.split())"
      ],
      "metadata": {
        "id": "3U4E8sKtAto9"
      },
      "execution_count": null,
      "outputs": []
    },
    {
      "cell_type": "code",
      "source": [
        "# Step 3: Feature Engineering\n",
        "# TF-IDF Vectorization\n",
        "tfidf = TfidfVectorizer()\n",
        "X = tfidf.fit_transform(df['preprocessed_text'])\n",
        "y = df['class']"
      ],
      "metadata": {
        "id": "YLcnE4OzAvmV"
      },
      "execution_count": null,
      "outputs": []
    },
    {
      "cell_type": "code",
      "source": [
        "# Perform train-test split separately for each model (To avoid class imbalance)\n",
        "from sklearn.model_selection import train_test_split\n",
        "\n",
        "X_train_lr, X_test_lr, y_train_lr, y_test_lr = train_test_split(X, y, test_size=0.2, random_state=42)\n",
        "X_train_rf, X_test_rf, y_train_rf, y_test_rf = train_test_split(X, y, test_size=0.2, random_state=42)\n",
        "X_train_nb, X_test_nb, y_train_nb, y_test_nb = train_test_split(X, y, test_size=0.2, random_state=42)\n",
        "X_train_svm, X_test_svm, y_train_svm, y_test_svm = train_test_split(X, y, test_size=0.2, random_state=42)\n",
        "\n",
        "# Logistic Regression\n",
        "from sklearn.linear_model import LogisticRegression\n",
        "\n",
        "# Create the logistic regression model\n",
        "model_lr = LogisticRegression(verbose=1, solver='liblinear', random_state=0, C=5, penalty='l2', max_iter=100)\n",
        "\n",
        "# Fit the model to the training data\n",
        "model_lr.fit(X_train_lr, y_train_lr)\n",
        "\n",
        "# Make predictions on the test data\n",
        "y_pred_lr = model_lr.predict(X_test_lr)\n",
        "\n",
        "# Evaluate the model performance\n",
        "accuracy_lr = accuracy_score(y_test_lr, y_pred_lr)\n",
        "\n",
        "# Random Forest\n",
        "from sklearn.ensemble import RandomForestClassifier\n",
        "\n",
        "# Create the Random Forest classifier\n",
        "rf_model = RandomForestClassifier(n_estimators=100, random_state=0)\n",
        "\n",
        "# Fit the model to the training data\n",
        "rf_model.fit(X_train_rf, y_train_rf)\n",
        "\n",
        "# Make predictions on the test data\n",
        "y_pred_rf = rf_model.predict(X_test_rf)\n",
        "\n",
        "# Evaluate the model performance\n",
        "accuracy_rf = accuracy_score(y_test_rf, y_pred_rf)\n",
        "\n",
        "# Multinomial Naive Bayes\n",
        "from sklearn.naive_bayes import MultinomialNB\n",
        "\n",
        "# Create the Multinomial Naive Bayes classifier\n",
        "nb_model = MultinomialNB(alpha=1.0)\n",
        "\n",
        "# Fit the model to the training data\n",
        "nb_model.fit(X_train_nb, y_train_nb)\n",
        "\n",
        "# Make predictions on the test data\n",
        "y_pred_nb = nb_model.predict(X_test_nb)\n",
        "\n",
        "# Evaluate the model performance\n",
        "accuracy_nb = accuracy_score(y_test_nb, y_pred_nb)\n",
        "\n",
        "# SVM\n",
        "from sklearn.svm import SVC\n",
        "\n",
        "# Create the SVM classifier\n",
        "svm_model = SVC(kernel='linear', C=1, random_state=0)\n",
        "\n",
        "# Fit the model to the training data\n",
        "svm_model.fit(X_train_svm, y_train_svm)\n",
        "\n",
        "# Make predictions on the test data\n",
        "y_pred_svm = svm_model.predict(X_test_svm)\n",
        "\n",
        "# Evaluate the model performance\n",
        "accuracy_svm = accuracy_score(y_test_svm, y_pred_svm)\n",
        "\n",
        "# Print accuracy for each model\n",
        "print(\"Logistic Regression Accuracy:\", accuracy_lr)\n",
        "print(\"Random Forest Classifier Accuracy:\", accuracy_rf)\n",
        "print(\"Multinomial Naive Bayes Classifier Accuracy:\", accuracy_nb)\n",
        "print(\"SVM Classifier Accuracy:\", accuracy_svm)\n"
      ],
      "metadata": {
        "colab": {
          "base_uri": "https://localhost:8080/"
        },
        "id": "x_doOAR9Aymb",
        "outputId": "eeb8c18f-193c-4116-ecea-9f7960fe64c2"
      },
      "execution_count": null,
      "outputs": [
        {
          "output_type": "stream",
          "name": "stdout",
          "text": [
            "[LibLinear]Logistic Regression Accuracy: 0.8910631430300585\n",
            "Random Forest Classifier Accuracy: 0.8884405890659673\n",
            "Multinomial Naive Bayes Classifier Accuracy: 0.7962477304821465\n",
            "SVM Classifier Accuracy: 0.9007464192051644\n"
          ]
        }
      ]
    },
    {
      "cell_type": "code",
      "source": [
        "# Print classification report for each model\n",
        "from sklearn.metrics import classification_report\n",
        "\n",
        "# Print classification report for each model with zero_division=1\n",
        "print(\"Logistic Regression Classification Report:\")\n",
        "print(classification_report(y_test_lr, y_pred_lr, zero_division=1))\n",
        "\n",
        "print(\"Random Forest Classification Report:\")\n",
        "print(classification_report(y_test_rf, y_pred_rf, zero_division=1))\n",
        "\n",
        "print(\"Multinomial Naive Bayes Classification Report:\")\n",
        "print(classification_report(y_test_nb, y_pred_nb, zero_division=1))\n",
        "\n",
        "print(\"SVM Classification Report:\")\n",
        "print(classification_report(y_test_svm, y_pred_svm, zero_division=1))\n"
      ],
      "metadata": {
        "colab": {
          "base_uri": "https://localhost:8080/"
        },
        "id": "aUX1d57SBo4G",
        "outputId": "005d8474-ef37-418e-f4dd-c98141992b0b"
      },
      "execution_count": null,
      "outputs": [
        {
          "output_type": "stream",
          "name": "stdout",
          "text": [
            "Logistic Regression Classification Report:\n",
            "              precision    recall  f1-score   support\n",
            "\n",
            "           0       0.50      0.19      0.28       290\n",
            "           1       0.91      0.96      0.94      3832\n",
            "           2       0.83      0.83      0.83       835\n",
            "\n",
            "    accuracy                           0.89      4957\n",
            "   macro avg       0.75      0.66      0.68      4957\n",
            "weighted avg       0.88      0.89      0.88      4957\n",
            "\n",
            "Random Forest Classification Report:\n",
            "              precision    recall  f1-score   support\n",
            "\n",
            "           0       0.58      0.10      0.18       290\n",
            "           1       0.90      0.97      0.93      3832\n",
            "           2       0.85      0.78      0.81       835\n",
            "\n",
            "    accuracy                           0.89      4957\n",
            "   macro avg       0.78      0.62      0.64      4957\n",
            "weighted avg       0.87      0.89      0.87      4957\n",
            "\n",
            "Multinomial Naive Bayes Classification Report:\n",
            "              precision    recall  f1-score   support\n",
            "\n",
            "           0       1.00      0.00      0.00       290\n",
            "           1       0.79      1.00      0.88      3832\n",
            "           2       0.94      0.14      0.25       835\n",
            "\n",
            "    accuracy                           0.80      4957\n",
            "   macro avg       0.91      0.38      0.38      4957\n",
            "weighted avg       0.83      0.80      0.72      4957\n",
            "\n",
            "SVM Classification Report:\n",
            "              precision    recall  f1-score   support\n",
            "\n",
            "           0       0.51      0.13      0.20       290\n",
            "           1       0.92      0.96      0.94      3832\n",
            "           2       0.83      0.89      0.86       835\n",
            "\n",
            "    accuracy                           0.90      4957\n",
            "   macro avg       0.76      0.66      0.67      4957\n",
            "weighted avg       0.88      0.90      0.89      4957\n",
            "\n"
          ]
        }
      ]
    },
    {
      "cell_type": "code",
      "source": [
        "#graphical comparison of all models\n",
        "import matplotlib.pyplot as plt\n",
        "import numpy as np\n",
        "\n",
        "# List of models and their accuracies\n",
        "models = ['Logistic Regression', 'Random Forest', 'Multinomial NB', 'SVM']\n",
        "accuracies = [accuracy_lr, accuracy_rf, accuracy_nb, accuracy_svm]\n",
        "\n",
        "# Create a horizontal bar plot for model accuracy\n",
        "plt.figure(figsize=(10, 6))\n",
        "plt.barh(models, accuracies, color='skyblue')\n",
        "plt.xlabel('Accuracy')\n",
        "plt.ylabel('Models')\n",
        "plt.title('Model Accuracy Comparison')\n",
        "plt.xlim(0, 1)  # Set the x-axis limits from 0 to 1\n",
        "\n",
        "# Add accuracy values on the bars\n",
        "for index, value in enumerate(accuracies):\n",
        "    plt.text(value, index, f\"{value:.2f}\", ha='left', va='center')\n",
        "\n",
        "plt.show()\n"
      ],
      "metadata": {
        "colab": {
          "base_uri": "https://localhost:8080/",
          "height": 564
        },
        "id": "7a9ZBxtHBwP_",
        "outputId": "ce121eb7-3ee2-49c3-97fa-2d57bee1d665"
      },
      "execution_count": null,
      "outputs": [
        {
          "output_type": "display_data",
          "data": {
            "text/plain": [
              "<Figure size 1000x600 with 1 Axes>"
            ],
            "image/png": "[encoded data removed]"
          },
          "metadata": {}
        }
      ]
    },
    {
      "cell_type": "code",
      "source": [
        "#Tabular comparison of all models\n",
        "import pandas as pd\n",
        "from sklearn.metrics import precision_score, recall_score, f1_score\n",
        "\n",
        "# List of models and their corresponding metrics\n",
        "models = ['Logistic Regression', 'Random Forest', 'Multinomial NB', 'SVM']\n",
        "accuracy = [accuracy_lr, accuracy_rf, accuracy_nb, accuracy_svm]\n",
        "precision = [precision_score(y_test_lr, y_pred_lr, average='weighted', zero_division=1),\n",
        "             precision_score(y_test_rf, y_pred_rf, average='weighted', zero_division=1),\n",
        "             precision_score(y_test_nb, y_pred_nb, average='weighted', zero_division=1),\n",
        "             precision_score(y_test_svm, y_pred_svm, average='weighted', zero_division=1)]\n",
        "recall = [recall_score(y_test_lr, y_pred_lr, average='weighted', zero_division=1),\n",
        "          recall_score(y_test_rf, y_pred_rf, average='weighted', zero_division=1),\n",
        "          recall_score(y_test_nb, y_pred_nb, average='weighted', zero_division=1),\n",
        "          recall_score(y_test_svm, y_pred_svm, average='weighted', zero_division=1)]\n",
        "f1 = [f1_score(y_test_lr, y_pred_lr, average='weighted', zero_division=1),\n",
        "      f1_score(y_test_rf, y_pred_rf, average='weighted', zero_division=1),\n",
        "      f1_score(y_test_nb, y_pred_nb, average='weighted', zero_division=1),\n",
        "      f1_score(y_test_svm, y_pred_svm, average='weighted', zero_division=1)]\n",
        "\n",
        "# Create a DataFrame to display the performance metrics for each model\n",
        "data = {'Model': models, 'Accuracy': accuracy, 'Precision': precision, 'Recall': recall, 'F1-Score': f1}\n",
        "comparison_df = pd.DataFrame(data)\n",
        "print(comparison_df)\n"
      ],
      "metadata": {
        "colab": {
          "base_uri": "https://localhost:8080/"
        },
        "id": "YLXskz8SDK2g",
        "outputId": "b31f0e89-3295-49ca-cba2-4b4648ce64dd"
      },
      "execution_count": null,
      "outputs": [
        {
          "output_type": "stream",
          "name": "stdout",
          "text": [
            "                 Model  Accuracy  Precision    Recall  F1-Score\n",
            "0  Logistic Regression  0.891063   0.876095  0.891063  0.879204\n",
            "1        Random Forest  0.888441   0.872273  0.888441  0.869433\n",
            "2       Multinomial NB  0.796248   0.829018  0.796248  0.724941\n",
            "3                  SVM  0.900746   0.883849  0.900746  0.885021\n"
          ]
        }
      ]
    },
    {
      "cell_type": "code",
      "source": [
        "#Bidirectional model start"
      ],
      "metadata": {
        "id": "NKJbo6lHEnYU"
      },
      "execution_count": null,
      "outputs": []
    },
    {
      "cell_type": "code",
      "source": [
        "from keras.preprocessing.text import Tokenizer\n",
        "from keras.utils import pad_sequences\n",
        "from keras import regularizers\n",
        "from keras.models import Sequential\n",
        "from keras import layers\n",
        "from keras.optimizers import RMSprop,Adam\n",
        "from keras import backend as K\n",
        "from keras.callbacks import ModelCheckpoint\n",
        "\n",
        "max_words = 5000\n",
        "max_len = 200\n",
        "\n",
        "tokenizer = Tokenizer(num_words=max_words)\n",
        "tokenizer.fit_on_texts(df['preprocessed_text_ml'])\n",
        "sequences = tokenizer.texts_to_sequences(df['preprocessed_text_ml'])\n",
        "tweets = pad_sequences(sequences, maxlen=max_len)\n",
        "print(tweets)"
      ],
      "metadata": {
        "colab": {
          "base_uri": "https://localhost:8080/"
        },
        "id": "U_NNhemIEo1L",
        "outputId": "8c457de4-1ee5-4975-acb1-630a68ed635f"
      },
      "execution_count": null,
      "outputs": [
        {
          "output_type": "stream",
          "name": "stdout",
          "text": [
            "[[   0    0    0 ...   91   59   15]\n",
            " [   0    0    0 ...    2  465  392]\n",
            " [   0    0    0 ...  251  764   12]\n",
            " ...\n",
            " [   0    0    0 ...   14  110  263]\n",
            " [   0    0    0 ...    1 1760  203]\n",
            " [   0    0    0 ...  106   19   62]]\n"
          ]
        }
      ]
    },
    {
      "cell_type": "code",
      "source": [
        "len(tweets)"
      ],
      "metadata": {
        "colab": {
          "base_uri": "https://localhost:8080/"
        },
        "id": "FdIKWylBEzQR",
        "outputId": "93e2186c-c1e8-4fd4-9d9b-78f43234a199"
      },
      "execution_count": null,
      "outputs": [
        {
          "output_type": "execute_result",
          "data": {
            "text/plain": [
              "24783"
            ]
          },
          "metadata": {},
          "execution_count": 17
        }
      ]
    },
    {
      "cell_type": "code",
      "source": [
        "import tensorflow as tf\n",
        "import numpy as np\n",
        "labels = np.array(df['class'])\n",
        "y = []\n",
        "for i in range(len(labels)):\n",
        "    if labels[i] == 2:\n",
        "        y.append(2)\n",
        "    if labels[i] == 1:\n",
        "        y.append(1)\n",
        "    if labels[i] == 0:\n",
        "        y.append(0)\n",
        "y = np.array(y)\n",
        "labels = tf.keras.utils.to_categorical(y, 3, dtype=\"float32\")\n",
        "del y"
      ],
      "metadata": {
        "id": "-YnqSR2VE1Fq"
      },
      "execution_count": null,
      "outputs": []
    },
    {
      "cell_type": "code",
      "source": [
        "X_train, X_test, y_train, y_test = train_test_split(tweets,labels, random_state=0)"
      ],
      "metadata": {
        "id": "EZFNKdg_E4Pi"
      },
      "execution_count": null,
      "outputs": []
    },
    {
      "cell_type": "code",
      "source": [
        "from keras.callbacks import ModelCheckpoint\n",
        "\n",
        "model2 = Sequential()\n",
        "model2.add(layers.Embedding(max_words, 40, input_length=max_len))\n",
        "model2.add(layers.Bidirectional(layers.LSTM(20,dropout=0.6)))\n",
        "model2.add(layers.Dense(3,activation='softmax'))\n",
        "model2.compile(optimizer='rmsprop',loss='categorical_crossentropy', metrics=['accuracy'])\n",
        "#Implementing model checkpoins to save the best metric and do not lose it on training.\n",
        "checkpoint2 = ModelCheckpoint(\"best_model2.hdf5\", monitor='val_accuracy', verbose=1,save_best_only=True, mode='auto', period=1,save_weights_only=False)\n",
        "history = model2.fit(X_train, y_train, epochs=12,validation_data=(X_test, y_test),callbacks=[checkpoint2])"
      ],
      "metadata": {
        "colab": {
          "base_uri": "https://localhost:8080/"
        },
        "id": "wZh2uHBWE6To",
        "outputId": "2d6cc381-868e-4f41-f273-4132d2e5ba21"
      },
      "execution_count": null,
      "outputs": [
        {
          "metadata": {
            "tags": null
          },
          "name": "stderr",
          "output_type": "stream",
          "text": [
            "WARNING:tensorflow:`period` argument is deprecated. Please use `save_freq` to specify the frequency in number of batches seen.\n"
          ]
        },
        {
          "metadata": {
            "tags": null
          },
          "name": "stdout",
          "output_type": "stream",
          "text": [
            "Epoch 1/12\n",
            "581/581 [==============================] - ETA: 0s - loss: 0.4660 - accuracy: 0.8385\n",
            "Epoch 1: val_accuracy improved from -inf to 0.87928, saving model to best_model2.hdf5\n",
            "581/581 [==============================] - 107s 166ms/step - loss: 0.4660 - accuracy: 0.8385 - val_loss: 0.3495 - val_accuracy: 0.8793\n",
            "Epoch 2/12\n",
            "  1/581 [..............................] - ETA: 1:12 - loss: 0.6246 - accuracy: 0.7812"
          ]
        },
        {
          "metadata": {
            "tags": null
          },
          "name": "stderr",
          "output_type": "stream",
          "text": [
            "/usr/local/lib/python3.10/dist-packages/keras/src/engine/training.py:3103: UserWarning: You are saving your model as an HDF5 file via `model.save()`. This file format is considered legacy. We recommend using instead the native Keras format, e.g. `model.save('my_model.keras')`.\n",
            "  saving_api.save_model(\n"
          ]
        },
        {
          "output_type": "stream",
          "name": "stdout",
          "text": [
            "581/581 [==============================] - ETA: 0s - loss: 0.3280 - accuracy: 0.8902\n",
            "Epoch 2: val_accuracy improved from 0.87928 to 0.88880, saving model to best_model2.hdf5\n",
            "581/581 [==============================] - 97s 168ms/step - loss: 0.3280 - accuracy: 0.8902 - val_loss: 0.3181 - val_accuracy: 0.8888\n",
            "Epoch 3/12\n",
            "581/581 [==============================] - ETA: 0s - loss: 0.3040 - accuracy: 0.8987\n",
            "Epoch 3: val_accuracy improved from 0.88880 to 0.89267, saving model to best_model2.hdf5\n",
            "581/581 [==============================] - 95s 164ms/step - loss: 0.3040 - accuracy: 0.8987 - val_loss: 0.3042 - val_accuracy: 0.8927\n",
            "Epoch 4/12\n",
            "581/581 [==============================] - ETA: 0s - loss: 0.2831 - accuracy: 0.9034\n",
            "Epoch 4: val_accuracy improved from 0.89267 to 0.89768, saving model to best_model2.hdf5\n",
            "581/581 [==============================] - 90s 155ms/step - loss: 0.2831 - accuracy: 0.9034 - val_loss: 0.2887 - val_accuracy: 0.8977\n",
            "Epoch 5/12\n",
            "581/581 [==============================] - ETA: 0s - loss: 0.2670 - accuracy: 0.9076\n",
            "Epoch 5: val_accuracy improved from 0.89768 to 0.90123, saving model to best_model2.hdf5\n",
            "581/581 [==============================] - 90s 155ms/step - loss: 0.2670 - accuracy: 0.9076 - val_loss: 0.2757 - val_accuracy: 0.9012\n",
            "Epoch 6/12\n",
            "581/581 [==============================] - ETA: 0s - loss: 0.2572 - accuracy: 0.9121\n",
            "Epoch 6: val_accuracy improved from 0.90123 to 0.90139, saving model to best_model2.hdf5\n",
            "581/581 [==============================] - 89s 153ms/step - loss: 0.2572 - accuracy: 0.9121 - val_loss: 0.2724 - val_accuracy: 0.9014\n",
            "Epoch 7/12\n",
            "581/581 [==============================] - ETA: 0s - loss: 0.2483 - accuracy: 0.9157\n",
            "Epoch 7: val_accuracy did not improve from 0.90139\n",
            "581/581 [==============================] - 95s 164ms/step - loss: 0.2483 - accuracy: 0.9157 - val_loss: 0.2760 - val_accuracy: 0.9003\n",
            "Epoch 8/12\n",
            "581/581 [==============================] - ETA: 0s - loss: 0.2446 - accuracy: 0.9170\n",
            "Epoch 8: val_accuracy did not improve from 0.90139\n",
            "581/581 [==============================] - 90s 154ms/step - loss: 0.2446 - accuracy: 0.9170 - val_loss: 0.2778 - val_accuracy: 0.8986\n",
            "Epoch 9/12\n",
            "581/581 [==============================] - ETA: 0s - loss: 0.2415 - accuracy: 0.9167\n",
            "Epoch 9: val_accuracy improved from 0.90139 to 0.90155, saving model to best_model2.hdf5\n",
            "581/581 [==============================] - 90s 155ms/step - loss: 0.2415 - accuracy: 0.9167 - val_loss: 0.2744 - val_accuracy: 0.9015\n",
            "Epoch 10/12\n",
            "581/581 [==============================] - ETA: 0s - loss: 0.2375 - accuracy: 0.9201\n",
            "Epoch 10: val_accuracy improved from 0.90155 to 0.90381, saving model to best_model2.hdf5\n",
            "581/581 [==============================] - 89s 153ms/step - loss: 0.2375 - accuracy: 0.9201 - val_loss: 0.2764 - val_accuracy: 0.9038\n",
            "Epoch 11/12\n",
            "581/581 [==============================] - ETA: 0s - loss: 0.2338 - accuracy: 0.9192\n",
            "Epoch 11: val_accuracy did not improve from 0.90381\n",
            "581/581 [==============================] - 89s 153ms/step - loss: 0.2338 - accuracy: 0.9192 - val_loss: 0.2765 - val_accuracy: 0.9028\n",
            "Epoch 12/12\n",
            "581/581 [==============================] - ETA: 0s - loss: 0.2289 - accuracy: 0.9211\n",
            "Epoch 12: val_accuracy did not improve from 0.90381\n",
            "581/581 [==============================] - 93s 160ms/step - loss: 0.2289 - accuracy: 0.9211 - val_loss: 0.2772 - val_accuracy: 0.9006\n"
          ]
        }
      ]
    },
    {
      "cell_type": "code",
      "source": [
        "from keras.models import load_model\n",
        "from keras.callbacks import ModelCheckpoint\n",
        "\n",
        "# Save the final trained model\n",
        "model2.save('/content/model.h5')\n",
        "\n",
        "# Load the best model based on validation accuracy\n",
        "best_model = load_model(\"best_model2.hdf5\")\n",
        "\n",
        "# Evaluate the best model on the test data\n",
        "loss, accuracy = best_model.evaluate(X_test, y_test)\n",
        "\n",
        "print(f\"Best Model - Test Loss: {loss:.4f}, Test Accuracy: {accuracy:.4f}\")"
      ],
      "metadata": {
        "colab": {
          "base_uri": "https://localhost:8080/"
        },
        "id": "VAjmMsY-FsiT",
        "outputId": "68a0927a-d18a-451f-8be3-1ddc473c7846"
      },
      "execution_count": null,
      "outputs": [
        {
          "output_type": "stream",
          "name": "stdout",
          "text": [
            "194/194 [==============================] - 7s 29ms/step - loss: 0.2764 - accuracy: 0.9038\n",
            "Best Model - Test Loss: 0.2764, Test Accuracy: 0.9038\n"
          ]
        }
      ]
    },
    {
      "cell_type": "code",
      "source": [
        "#Bidirectional model end"
      ],
      "metadata": {
        "id": "n1gAMwS6Fhgc"
      },
      "execution_count": null,
      "outputs": []
    },
    {
      "cell_type": "code",
      "source": [
        "#Graphical and tabular comparison of accuracies of all the models\n",
        "import matplotlib.pyplot as plt\n",
        "import pandas as pd\n",
        "\n",
        "# List of models and their accuracies\n",
        "models = ['Logistic Regression', 'Random Forest', 'Multinomial NB', 'SVM', 'Bidirectional LSTM']\n",
        "accuracies = [accuracy_lr, accuracy_rf, accuracy_nb, accuracy_svm]\n",
        "\n",
        "# Calculate the accuracy of the Bidirectional LSTM model\n",
        "loss, accuracy_bidirectional = model2.evaluate(X_test, y_test)\n",
        "accuracies.append(accuracy_bidirectional)\n",
        "\n",
        "# Create a horizontal bar plot for model accuracy\n",
        "plt.figure(figsize=(8, 6))\n",
        "plt.barh(models, accuracies, color='skyblue', edgecolor='black')\n",
        "plt.xlabel('Accuracy', fontsize=12)\n",
        "plt.ylabel('Models', fontsize=12)\n",
        "plt.title('Model Accuracy Comparison', fontsize=14, fontweight='bold')\n",
        "plt.xlim(0, 1)  # Set the x-axis limits from 0 to 1\n",
        "plt.gca().spines['top'].set_visible(False)  # Remove top border\n",
        "plt.gca().spines['right'].set_visible(False)  # Remove right border\n",
        "\n",
        "# Add values at the end of each bar\n",
        "for i, v in enumerate(accuracies):\n",
        "    plt.text(v + 0.01, i, f'{v:.2f}', ha='left', va='center', fontsize=10, fontweight='bold')\n",
        "\n",
        "plt.tight_layout()\n",
        "plt.show()\n",
        "\n",
        "# Create a tabular comparison of accuracy\n",
        "data = {'Model': models, 'Accuracy': accuracies}\n",
        "df_accuracy = pd.DataFrame(data)\n",
        "print(df_accuracy)\n"
      ],
      "metadata": {
        "colab": {
          "base_uri": "https://localhost:8080/",
          "height": 728
        },
        "id": "L5u6NRUAM9W9",
        "outputId": "1eab8ffc-17cd-463f-b965-b1d485427a84"
      },
      "execution_count": null,
      "outputs": [
        {
          "output_type": "stream",
          "name": "stdout",
          "text": [
            "194/194 [==============================] - 7s 36ms/step - loss: 0.2772 - accuracy: 0.9006\n"
          ]
        },
        {
          "output_type": "display_data",
          "data": {
            "text/plain": [
              "<Figure size 800x600 with 1 Axes>"
            ],
            "image/png": "[encoded data removed]"
          },
          "metadata": {}
        },
        {
          "output_type": "stream",
          "name": "stdout",
          "text": [
            "                 Model  Accuracy\n",
            "0  Logistic Regression  0.891063\n",
            "1        Random Forest  0.888441\n",
            "2       Multinomial NB  0.796248\n",
            "3                  SVM  0.900746\n",
            "4   Bidirectional LSTM  0.900581\n"
          ]
        }
      ]
    }
  ]
}